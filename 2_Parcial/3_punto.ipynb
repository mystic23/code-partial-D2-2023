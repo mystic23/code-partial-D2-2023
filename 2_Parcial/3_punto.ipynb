{
 "cells": [
  {
   "attachments": {},
   "cell_type": "markdown",
   "metadata": {},
   "source": [
    "Solcuión a la pregunta"
   ]
  },
  {
   "attachments": {},
   "cell_type": "markdown",
   "metadata": {},
   "source": [
    "Para el primer ejercicio, se tiene el siguiente grafo dirigido:\n",
    "A -> B, peso 1\n",
    "\n",
    "A -> C, peso 2\n",
    "\n",
    "B -> D, peso 2\n",
    "\n",
    "C -> E, peso 3\n",
    "\n",
    "D -> F, peso 7\n",
    "\n",
    "E -> F, peso 1\n",
    "\n",
    "B -> C, peso 1\n",
    "\n",
    "B -> E, peso 3\n",
    "\n",
    "D -> E, peso 2\n",
    "\n",
    "D -> C, peso 4\n",
    "\n",
    "\n",
    "Este grafo no es conexo, ya que no existe un camino que conecte todos los vértices del grafo. Los vértices A y F no están conectados directamente a ningún otro vértice. Además, se pueden identificar los siguientes ciclos:\n",
    "\n",
    "El ciclo B -> C -> E -> F -> D -> B de longitud 5.\n",
    "El ciclo D -> C -> E -> D de longitud 3.\n",
    "Para el segundo ejercicio, se tiene el siguiente grafo no dirigido:\n",
    "Este grafo es conexo, ya que existe al menos un camino que conecta todos los vértices del grafo. Además, se pueden identificar los siguientes ciclos:\n",
    "\n",
    "El ciclo 1 -- 2 -- 3 -- 4 -- 5 -- 7 -- 2 -- 1 \n",
    "El ciclo 4 -- 7 -- 2 -- 3 -- 4 "
   ]
  }
 ],
 "metadata": {
  "language_info": {
   "name": "python"
  },
  "orig_nbformat": 4
 },
 "nbformat": 4,
 "nbformat_minor": 2
}
