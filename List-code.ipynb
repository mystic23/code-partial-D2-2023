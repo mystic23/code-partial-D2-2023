{
 "cells": [
  {
   "attachments": {},
   "cell_type": "markdown",
   "metadata": {},
   "source": [
    "**Algoritmos que usare**\n"
   ]
  },
  {
   "attachments": {},
   "cell_type": "markdown",
   "metadata": {},
   "source": [
    "Temario:\n",
    "\n",
    "-- Árboles\n",
    "    a. Árboles binarios\n",
    "    b. Árboles de búsqueda ABB\n",
    "    c. Árboles AVL\n",
    "    d. Árboles B *\n",
    "\n",
    "\n",
    "0. [x] crear arbol\n",
    "1. [x] ORDENES (Preorden, Inorden, Postorden)\n",
    "2. Recorrido de un arbol (DFS,BFS)\n",
    "3. [x] Algoritmo de busqueda\n",
    "4. [x] algoritmo de insercion \n",
    "    -árbol binario y el algoritmo de inserción en un árbol AVL.\n",
    "5. eliminacion\n",
    "    - [x] eliminacion arbol binario \n",
    "    - eliminacion arbol AVL\n",
    "6. balanceo \n",
    "    -balanceo arbol avl \n",
    "    -balanceo arbol rojo-negro\n",
    "7. ORDENACION\n",
    "8. Decir cual es el tio, padre o abuelo\n",
    "9. encontrar el min y el max nodo de arbol y decir en que nivel esta\n",
    "10. niveles del arbol\n",
    "11. Invertir un arbol"
   ]
  },
  {
   "attachments": {},
   "cell_type": "markdown",
   "metadata": {},
   "source": [
    "1. arbol\n",
    "2. insert function\n",
    "3. inorder\n",
    "4. preorder\n",
    "5. postorder\n",
    "6. BFS algorithm"
   ]
  },
  {
   "attachments": {},
   "cell_type": "markdown",
   "metadata": {},
   "source": [
    "Referencias:\n",
    "https://www.csestack.org/level-order-traversal-binary-tree/"
   ]
  }
 ],
 "metadata": {
  "kernelspec": {
   "display_name": "Python 3",
   "language": "python",
   "name": "python3"
  },
  "language_info": {
   "name": "python",
   "version": "3.10.7"
  },
  "orig_nbformat": 4,
  "vscode": {
   "interpreter": {
    "hash": "c63d8c7d738c2960218a10995aedf0a7f67a49a231e71037adf0440953cdb45b"
   }
  }
 },
 "nbformat": 4,
 "nbformat_minor": 2
}
